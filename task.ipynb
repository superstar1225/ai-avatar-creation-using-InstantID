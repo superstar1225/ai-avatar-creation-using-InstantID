{
 "cells": [
  {
   "cell_type": "code",
   "execution_count": null,
   "metadata": {},
   "outputs": [],
   "source": [
    "!pip install gdown"
   ]
  },
  {
   "cell_type": "code",
   "execution_count": null,
   "metadata": {},
   "outputs": [],
   "source": [
    "import gdown\n",
    "import os\n",
    "import zipfile"
   ]
  },
  {
   "cell_type": "code",
   "execution_count": null,
   "metadata": {},
   "outputs": [],
   "source": [
    "%cd \"/workspace/InstantID\""
   ]
  },
  {
   "cell_type": "code",
   "execution_count": null,
   "metadata": {},
   "outputs": [],
   "source": [
    "urls = [\n",
    "    'https://drive.google.com/uc?id=1qXsQJ8ZT42_xSmWIYy85IcidpiZudOCB',\n",
    "    'https://drive.google.com/uc?id=1net68yNxF33NNV6WP7k56FS6V53tq-64',\n",
    "    'https://drive.google.com/uc?id=1pKIusApEfoHKDjeBTXYB3yOQ0EtTonNE',\n",
    "    'https://drive.google.com/uc?id=18wEUfMNohBJ4K3Ly5wpTejPfDzp-8fI8',\n",
    "    'https://drive.google.com/uc?id=19I-MZdctYKmVf3nu5Da3HS6KH5LBfdzG'\n",
    "]\n",
    "\n",
    "outputs = [\n",
    "    '/models/buffalo_l.zip',\n",
    "    '/models/buffalo_m.zip',\n",
    "    '/models/buffalo_s.zip',\n",
    "    '/models/antelopev2.zip',\n",
    "    '/models/buffalo_sc.zip'\n",
    "]"
   ]
  },
  {
   "cell_type": "code",
   "execution_count": null,
   "metadata": {},
   "outputs": [],
   "source": [
    "for i in range(len(urls)):\n",
    "    gdown.download(urls[i], outputs[i], quiet=False)"
   ]
  },
  {
   "cell_type": "code",
   "execution_count": null,
   "metadata": {},
   "outputs": [],
   "source": [
    "for i in range(len(urls)):\n",
    "    # gdown.download(urls[i], outputs[i], quiet=False)\n",
    "\n",
    "    with zipfile.ZipFile(outputs[i], mode='r') as z:\n",
    "        z.extractall('models')"
   ]
  },
  {
   "cell_type": "code",
   "execution_count": null,
   "metadata": {},
   "outputs": [],
   "source": [
    "!pip install -r gradio_demo/requirements.txt"
   ]
  },
  {
   "cell_type": "code",
   "execution_count": null,
   "metadata": {},
   "outputs": [],
   "source": []
  }
 ],
 "metadata": {
  "language_info": {
   "name": "python"
  }
 },
 "nbformat": 4,
 "nbformat_minor": 2
}
