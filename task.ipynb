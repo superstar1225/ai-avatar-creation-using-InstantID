{
 "cells": [
  {
   "cell_type": "code",
   "execution_count": null,
   "metadata": {},
   "outputs": [],
   "source": [
    "!pip install -r gradio_demo/requirements.txt"
   ]
  },
  {
   "cell_type": "code",
   "execution_count": null,
   "metadata": {},
   "outputs": [],
   "source": [
    "import gdown\n",
    "import os\n",
    "import zipfile"
   ]
  },
  {
   "cell_type": "code",
   "execution_count": null,
   "metadata": {},
   "outputs": [],
   "source": [
    "%cd \"/workspace/InstantID\""
   ]
  },
  {
   "cell_type": "code",
   "execution_count": null,
   "metadata": {},
   "outputs": [],
   "source": [
    "!python gradio_demo/download_models.py\n"
   ]
  },
  {
   "cell_type": "code",
   "execution_count": null,
   "metadata": {},
   "outputs": [],
   "source": [
    "!python gradio_demo/app-multicontrolnet.py \n"
   ]
  },
  {
   "cell_type": "code",
   "execution_count": null,
   "metadata": {},
   "outputs": [],
   "source": [
    "# urls = [\n",
    "#     'https://drive.google.com/uc?id=1qXsQJ8ZT42_xSmWIYy85IcidpiZudOCB',\n",
    "#     'https://drive.google.com/uc?id=1net68yNxF33NNV6WP7k56FS6V53tq-64',\n",
    "#     'https://drive.google.com/uc?id=1pKIusApEfoHKDjeBTXYB3yOQ0EtTonNE',\n",
    "#     'https://drive.google.com/uc?id=18wEUfMNohBJ4K3Ly5wpTejPfDzp-8fI8',\n",
    "#     'https://drive.google.com/uc?id=19I-MZdctYKmVf3nu5Da3HS6KH5LBfdzG'\n",
    "# ]\n",
    "\n",
    "# outputs = [\n",
    "#     '/model/buffalo_l.zip',\n",
    "#     '/model/buffalo_m.zip',\n",
    "#     '/model/buffalo_s.zip',\n",
    "#     '/model/antelopev2.zip',\n",
    "#     '/model/buffalo_sc.zip'\n",
    "# ]"
   ]
  },
  {
   "cell_type": "code",
   "execution_count": null,
   "metadata": {},
   "outputs": [],
   "source": [
    "# for i in range(len(urls)):\n",
    "#     gdown.download(urls[i], outputs[i], quiet=False)"
   ]
  },
  {
   "cell_type": "code",
   "execution_count": null,
   "metadata": {},
   "outputs": [],
   "source": [
    "# for i in range(len(urls)):\n",
    "#     # gdown.download(urls[i], outputs[i], quiet=False)\n",
    "\n",
    "#     with zipfile.ZipFile(outputs[i], mode='r') as z:\n",
    "#         z.extractall('models')"
   ]
  },
  {
   "cell_type": "code",
   "execution_count": null,
   "metadata": {},
   "outputs": [],
   "source": [
    "# from huggingface_hub import hf_hub_download\n",
    "# hf_hub_download(repo_id=\"InstantX/InstantID\", filename=\"ControlNetModel/config.json\", local_dir=\"./checkpoint\")\n",
    "# hf_hub_download(repo_id=\"InstantX/InstantID\", filename=\"ControlNetModel/diffusion_pytorch_model.safetensors\", local_dir=\"./checkpoint\")\n",
    "# hf_hub_download(repo_id=\"InstantX/InstantID\", filename=\"ip-adapter.bin\", local_dir=\"./checkpoint\")"
   ]
  }
 ],
 "metadata": {
  "language_info": {
   "name": "python"
  }
 },
 "nbformat": 4,
 "nbformat_minor": 2
}
